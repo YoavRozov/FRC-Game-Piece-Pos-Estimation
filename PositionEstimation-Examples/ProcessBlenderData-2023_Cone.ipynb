{
 "cells": [
  {
   "cell_type": "code",
   "execution_count": 31,
   "id": "0ff7e195",
   "metadata": {},
   "outputs": [],
   "source": [
    "import cv2\n",
    "import numpy as np\n",
    "import csv\n",
    "import sys\n",
    "import os\n",
    "import math"
   ]
  },
  {
   "cell_type": "markdown",
   "id": "679aa99d",
   "metadata": {},
   "source": [
    "Process images from blender and store the data (combined with the correct position data from the text file) in a csv file"
   ]
  },
  {
   "cell_type": "code",
   "execution_count": 32,
   "id": "824f24e3",
   "metadata": {},
   "outputs": [],
   "source": [
    "# Function to display progress in the console\n",
    "def update_progress(progress):\n",
    "    bar_length = 50  # Total length of the progress bar\n",
    "    filled_length = int(bar_length * progress / 100)\n",
    "    bar = '#' * filled_length + '_' * (bar_length - filled_length)\n",
    "    sys.stdout.write('\\r[{0}] {1}%'.format(bar, progress))\n",
    "    sys.stdout.flush()"
   ]
  },
  {
   "cell_type": "markdown",
   "id": "2955f39a",
   "metadata": {},
   "source": [
    "Each image represents a unique possible position of the game object, in the database we describe each image with 4 values: center_pixel_x, center_pixel_y, rect_width, rect_height"
   ]
  },
  {
   "cell_type": "code",
   "execution_count": 33,
   "id": "5b041169",
   "metadata": {},
   "outputs": [],
   "source": [
    "# Function to find red regions and extract bounding rectangle\n",
    "def find_bounding_rect(image):\n",
    "    # Convert BGR to HSV\n",
    "    hsv = cv2.cvtColor(image, cv2.COLOR_BGR2HSV)\n",
    "    \n",
    "    # Define range of red color in HSV\n",
    "    lower_red = np.array([0, 20, 25])\n",
    "    upper_red = np.array([30, 255, 255])\n",
    "    \n",
    "    # Combine masks to get only red pixels\n",
    "    red_mask = cv2.inRange(hsv, lower_red, upper_red)\n",
    "    \n",
    "    # Find contours\n",
    "    contours, _ = cv2.findContours(red_mask, cv2.RETR_LIST, cv2.CHAIN_APPROX_SIMPLE)\n",
    "    contour = max(contours, key=cv2.contourArea)\n",
    "    \n",
    "    # Get bounding rectangle\n",
    "    x, y, w, h = cv2.boundingRect(contour)\n",
    "    \n",
    "    cv2.rectangle(image, (x, y), (x + w, y + h), (0, 255, 255), 2)\n",
    "    \n",
    "    return (x, y, w, h), contour"
   ]
  },
  {
   "cell_type": "code",
   "execution_count": 34,
   "id": "ab21c26a",
   "metadata": {},
   "outputs": [],
   "source": [
    "def saharAlgorithm(contour, img):\n",
    "    # Compute the center of the contour\n",
    "    M = cv2.moments(contour)\n",
    "    cX = int(M[\"m10\"] / M[\"m00\"])\n",
    "    cY = int(M[\"m01\"] / M[\"m00\"])\n",
    "\n",
    "    # Find the point on the contour that is furthest from the center\n",
    "    # It is almost always the cone top point\n",
    "    # IMPORTANT: If the cone top is not visible in the image you will get undefined behavior\n",
    "    distances = [np.linalg.norm(np.array([cX, cY]) - point[0]) for point in contour]\n",
    "    max_distance_index = np.argmax(distances)\n",
    "    furthest_point = tuple(contour[max_distance_index][0])\n",
    "\n",
    "    X = furthest_point[0]\n",
    "    Y = furthest_point[1]\n",
    "\n",
    "    p1 = (cX, img.shape[0] - cY)\n",
    "    p2 = (X, img.shape[0] - Y)\n",
    "\n",
    "    # Difference in x coordinates\n",
    "    dx = p2[0] - p1[0]\n",
    "\n",
    "    # Difference in y coordinates\n",
    "    dy = p2[1] - p1[1]\n",
    "\n",
    "    # Angle between p1 and p2 in radians\n",
    "    theta = math.atan2(dy, dx)\n",
    "\n",
    "    angle = theta * 180 / math.pi\n",
    "\n",
    "    if (dy < 0):\n",
    "        angle = 360 + angle\n",
    "    \n",
    "    # Visualize\n",
    "    cv2.line(img, (cX, cY), furthest_point, (255, 255, 255), 2)\n",
    "\n",
    "    return angle"
   ]
  },
  {
   "cell_type": "markdown",
   "id": "ebcb14ad",
   "metadata": {},
   "source": [
    "Load data from Blender"
   ]
  },
  {
   "cell_type": "code",
   "execution_count": 35,
   "id": "6c571d39",
   "metadata": {},
   "outputs": [],
   "source": [
    "# Image folder path and CSV file path\n",
    "images_folder = 'D:\\\\FRC\\\\Programming\\\\LearningProjects\\\\Cone_ML_PoseEstimation\\\\BruteForceApproach\\\\AllPossibleCombinations\\\\Images' #! Image folder is not included due to size constraints of github repository\n",
    "text_file_path = '../Data/2023-Cone/PositionData.txt'\n",
    "csv_file_path = '../Data/2023-Cone/FullData.csv'"
   ]
  },
  {
   "cell_type": "code",
   "execution_count": 36,
   "id": "cc80823e",
   "metadata": {},
   "outputs": [
    {
     "name": "stdout",
     "output_type": "stream",
     "text": [
      "Total images found: 28368\n"
     ]
    }
   ],
   "source": [
    "# Count .png files in the folder\n",
    "total_iterations = len([file for file in os.listdir(images_folder) if file.endswith('.jpeg')])\n",
    "print(f\"Total images found: {total_iterations}\")\n",
    "# Get a sorted list of image filenames in the folder\n",
    "image_files = range(0, total_iterations)\n",
    "\n",
    "\n",
    "position_data = []\n",
    "with open(text_file_path, 'r') as file:\n",
    "    for line in file:\n",
    "        x, y, a = line.strip().split(',')\n",
    "        position_data.append([float(x), float(y), float(a)])\n",
    "\n",
    "if (len(position_data) != total_iterations):\n",
    "    print(f\"Warning: Number of position data points ({len(position_data)}) does not match number of images ({total_iterations}).\")"
   ]
  },
  {
   "cell_type": "markdown",
   "id": "f6778306",
   "metadata": {},
   "source": [
    "Process Data from Blender"
   ]
  },
  {
   "cell_type": "code",
   "execution_count": 37,
   "id": "be75e513",
   "metadata": {},
   "outputs": [
    {
     "name": "stdout",
     "output_type": "stream",
     "text": [
      "[##################################################] 100%"
     ]
    }
   ],
   "source": [
    "targetRes = (1280, 720)\n",
    "\n",
    "# Open CSV file for writing\n",
    "with open(csv_file_path, 'w', newline='') as csvfile:\n",
    "    csv_writer = csv.writer(csvfile)\n",
    "    csv_writer.writerow(['Image', 'Center_X', 'Center_Y', 'Width', 'Height', 'saharAngle', 'x_position', 'y_position', 'angle'])\n",
    "\n",
    "    # Loop through all files in the folder\n",
    "    for filename in image_files:\n",
    "        # Read image\n",
    "        image = cv2.imread(os.path.join(images_folder, (\"render_\"+ str(filename)+ \".jpeg\")))\n",
    "        \n",
    "        image = cv2.resize(image, targetRes, interpolation=cv2.INTER_LINEAR)\n",
    "\n",
    "        # Find red rectangles\n",
    "        rect, contour = find_bounding_rect(image)\n",
    "        saharAngle = saharAlgorithm(contour, image)\n",
    "        \n",
    "        cv2.imshow(\"Frame\", image)\n",
    "        cv2.waitKey(1)\n",
    "        \n",
    "        x, y, w, h = rect\n",
    "        center_x = x + w // 2\n",
    "        center_y = y + h // 2\n",
    "        csv_writer.writerow([filename, center_x, center_y, w, h, saharAngle, position_data[filename][0], position_data[filename][1], position_data[filename][2]])\n",
    "        \n",
    "        # Update progress\n",
    "        progress = int(100 * (filename + 1) / total_iterations)\n",
    "        update_progress(progress)\n",
    "\n",
    "cv2.destroyAllWindows()"
   ]
  }
 ],
 "metadata": {
  "kernelspec": {
   "display_name": "base",
   "language": "python",
   "name": "python3"
  },
  "language_info": {
   "codemirror_mode": {
    "name": "ipython",
    "version": 3
   },
   "file_extension": ".py",
   "mimetype": "text/x-python",
   "name": "python",
   "nbconvert_exporter": "python",
   "pygments_lexer": "ipython3",
   "version": "3.11.5"
  }
 },
 "nbformat": 4,
 "nbformat_minor": 5
}
