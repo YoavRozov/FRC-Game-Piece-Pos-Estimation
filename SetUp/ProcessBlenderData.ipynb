{
 "cells": [
  {
   "cell_type": "code",
   "execution_count": 2,
   "id": "d2d31deb",
   "metadata": {},
   "outputs": [],
   "source": [
    "import cv2\n",
    "import numpy as np\n",
    "import csv\n",
    "import sys\n",
    "import os\n",
    "import math"
   ]
  },
  {
   "cell_type": "markdown",
   "id": "b133ce9a",
   "metadata": {},
   "source": [
    "Process images from blender and store the data (combined with the correct position data from the text file) in a csv file"
   ]
  },
  {
   "cell_type": "code",
   "execution_count": 3,
   "id": "c21611f8",
   "metadata": {},
   "outputs": [],
   "source": [
    "# Function to display progress in the console\n",
    "def update_progress(progress):\n",
    "    bar_length = 50  # Total length of the progress bar\n",
    "    filled_length = int(bar_length * progress / 100)\n",
    "    bar = '#' * filled_length + '_' * (bar_length - filled_length)\n",
    "    sys.stdout.write('\\r[{0}] {1}%'.format(bar, progress))\n",
    "    sys.stdout.flush()"
   ]
  },
  {
   "cell_type": "markdown",
   "id": "c4f33041",
   "metadata": {},
   "source": [
    "Each image represents a unique possible position of the game object, in the database we describe each image with 4 values: center_pixel_x, center_pixel_y, rect_width, rect_height - Symmetrical Object (Algae, Note)"
   ]
  },
  {
   "cell_type": "code",
   "execution_count": null,
   "id": "fdd6a9ba",
   "metadata": {},
   "outputs": [],
   "source": [
    "# Function to find red regions and extract bounding rectangle\n",
    "def find_bounding_rect(image):\n",
    "    # Convert BGR to HSV\n",
    "    hsv = cv2.cvtColor(image, cv2.COLOR_BGR2HSV)\n",
    "    \n",
    "    # Define range of red color in HSV\n",
    "    lower_red = np.array([0, 20, 25])\n",
    "    upper_red = np.array([30, 255, 255])\n",
    "    \n",
    "    # Combine masks to get only red pixels\n",
    "    red_mask = cv2.inRange(hsv, lower_red, upper_red)\n",
    "    \n",
    "    # Find contours\n",
    "    contours, _ = cv2.findContours(red_mask, cv2.RETR_LIST, cv2.CHAIN_APPROX_SIMPLE)\n",
    "    contour = max(contours, key=cv2.contourArea)\n",
    "    \n",
    "    # Get bounding rectangle\n",
    "    x, y, w, h = cv2.boundingRect(contour)\n",
    "    \n",
    "    cv2.rectangle(image, (x, y), (x + w, y + h), (0, 255, 255), 2)\n",
    "    cv2.imshow(\"Frame\", image)\n",
    "    cv2.waitKey(1)\n",
    "\n",
    "    return (x, y, w, h)"
   ]
  },
  {
   "cell_type": "markdown",
   "id": "ce00dc2a",
   "metadata": {},
   "source": [
    "Each image represents a unique possible position of the game object, in the database we describe each image with 5 values: center_pixel_x, center_pixel_y, rect_width, rect_height, angle - Non Symmetrical Object (Cone, Coral)"
   ]
  },
  {
   "cell_type": "code",
   "execution_count": null,
   "id": "0fe2ce33",
   "metadata": {},
   "outputs": [],
   "source": [
    "# Works by finding the two longest edges of the contour\n",
    "# and averaging their angles\n",
    "# Used for 2025 Coral\n",
    "def find_angle(contour, img=None, draw=True):\n",
    "    \"\"\"\n",
    "    Given a contour, find the two longest straight lines,\n",
    "    average their directions, and return the dominant angle in degrees.\n",
    "    \"\"\"\n",
    "    if len(contour) < 2:\n",
    "        return None\n",
    "\n",
    "    # 1. Simplify contour (remove small jitter)\n",
    "    epsilon = 0.01 * cv2.arcLength(contour, True)\n",
    "    approx = cv2.approxPolyDP(contour, epsilon, True)\n",
    "\n",
    "    # 2. Collect line segments and their angles\n",
    "    lines = []\n",
    "    for i in range(len(approx)):\n",
    "        p1 = approx[i][0]\n",
    "        p2 = approx[(i + 1) % len(approx)][0]  # wrap around\n",
    "        dx = p2[0] - p1[0]\n",
    "        dy = p2[1] - p1[1]\n",
    "        length = math.hypot(dx, dy)\n",
    "        if length > 2:  # ignore tiny edges\n",
    "            angle = math.degrees(math.atan2(dy, dx))\n",
    "            lines.append((length, angle, p1, p2))\n",
    "\n",
    "    if len(lines) < 2:\n",
    "        return None\n",
    "\n",
    "    # 3. Take two longest lines\n",
    "    lines.sort(reverse=True, key=lambda x: x[0])\n",
    "    longest = lines[:2]\n",
    "\n",
    "    # 4. Compute average direction\n",
    "    # Handle circular mean (avoid averaging 179° and -179° to get 0°)\n",
    "    angles = [math.radians(l[1]) for l in longest]\n",
    "    x_mean = np.mean([math.cos(a) for a in angles])\n",
    "    y_mean = np.mean([math.sin(a) for a in angles])\n",
    "    avg_angle = math.degrees(math.atan2(y_mean, x_mean))\n",
    "\n",
    "    avg_angle = (avg_angle + 360 + 90) % 180  # normalize to [0, 180)\n",
    "\n",
    "    # 5. Optional drawing\n",
    "    if img is not None and draw:\n",
    "        for _, angle, p1, p2 in longest:\n",
    "            cv2.line(img, tuple(p1), tuple(p2), (0, 255, 0), 2)\n",
    "        # Draw the averaged orientation line at the contour center\n",
    "        cx, cy = np.mean(approx[:, 0, :], axis=0).astype(int)\n",
    "        length = 50\n",
    "        x2 = int(cx + length * math.cos(math.radians(avg_angle)))\n",
    "        y2 = int(cy + length * math.sin(math.radians(avg_angle)))\n",
    "        cv2.arrowedLine(img, (cx, cy), (x2, y2), (255, 255, 0), 2, tipLength=0.2)\n",
    "\n",
    "    return avg_angle"
   ]
  },
  {
   "cell_type": "code",
   "execution_count": null,
   "id": "ccfc9dc5",
   "metadata": {},
   "outputs": [],
   "source": [
    "def find_bounding_rect_angle(image):\n",
    "    # Convert BGR to HSV\n",
    "    hsv = cv2.cvtColor(image, cv2.COLOR_BGR2HSV)\n",
    "    \n",
    "    # Define range of red color in HSV\n",
    "    lower_red = np.array([0, 20, 25])\n",
    "    upper_red = np.array([30, 255, 255])\n",
    "    \n",
    "    # Combine masks to get only red pixels\n",
    "    red_mask = cv2.inRange(hsv, lower_red, upper_red)\n",
    "    \n",
    "    # Find contours\n",
    "    contours, _ = cv2.findContours(red_mask, cv2.RETR_LIST, cv2.CHAIN_APPROX_SIMPLE)\n",
    "    contour = max(contours, key=cv2.contourArea)\n",
    "\n",
    "    # Get bounding rectangle\n",
    "    x, y, w, h = cv2.boundingRect(contour)\n",
    "    \n",
    "    cv2.rectangle(image, (x, y), (x + w, y + h), (0, 255, 255), 2)\n",
    "    angle = find_angle(contour, image, draw=True)\n",
    "    \n",
    "    cv2.imshow(\"Frame\", image)\n",
    "    cv2.waitKey(1)\n",
    "    \n",
    "    return (x + w / 2, y + h / 2), (w, h), angle"
   ]
  },
  {
   "cell_type": "markdown",
   "id": "13404f18",
   "metadata": {},
   "source": [
    "### Load data from Blender"
   ]
  },
  {
   "cell_type": "code",
   "execution_count": null,
   "id": "2d7a8879",
   "metadata": {},
   "outputs": [],
   "source": [
    "# Image folder path and CSV file path\n",
    "images_folder = '../Data/Custom-Data/Images'\n",
    "text_file_path = '../Data/Custom-Data/PositionData.txt'\n",
    "csv_file_path = '../Data/Custom-Data/FullData.csv'"
   ]
  },
  {
   "cell_type": "code",
   "execution_count": null,
   "id": "87776d06",
   "metadata": {},
   "outputs": [],
   "source": [
    "# Count .png files in the folder\n",
    "total_iterations = len([file for file in os.listdir(images_folder) if file.endswith('.jpg')])\n",
    "print(f\"Total images found: {total_iterations}\")\n",
    "# Get a sorted list of image filenames in the folder\n",
    "image_files = range(0, total_iterations)\n",
    "\n",
    "\n",
    "position_data = []\n",
    "with open(text_file_path, 'r') as file:\n",
    "    for line in file:\n",
    "        x, y, a = line.strip().split(',')\n",
    "        \n",
    "        position_data.append([float(x), float(y), float(a)])\n",
    "\n",
    "if (len(position_data) != total_iterations):\n",
    "    print(f\"Warning: Number of position data points ({len(position_data)}) does not match number of images ({total_iterations}).\")"
   ]
  },
  {
   "cell_type": "markdown",
   "id": "8f38a3e2",
   "metadata": {},
   "source": [
    "### Process Data from Blender - Non Symmetrical Object (Cone, Coral)"
   ]
  },
  {
   "cell_type": "code",
   "execution_count": null,
   "id": "762d2c4c",
   "metadata": {},
   "outputs": [],
   "source": [
    "targetRes = (1280, 720)\n",
    "\n",
    "# Open CSV file for writing\n",
    "with open(csv_file_path, 'w', newline='') as csvfile:\n",
    "    csv_writer = csv.writer(csvfile)\n",
    "    csv_writer.writerow(['Image', 'Center_X', 'Center_Y', 'Width', 'Height', 'Image_angle', 'x_position', 'y_position', 'angle'])\n",
    "\n",
    "    # Loop through all files in the folder\n",
    "    for filename in image_files:\n",
    "        # Read image\n",
    "        image = cv2.imread(os.path.join(images_folder, (\"render_\"+ str(filename)+ \".jpg\")))\n",
    "        \n",
    "        image = cv2.resize(image, targetRes, interpolation=cv2.INTER_LINEAR)\n",
    "\n",
    "        # Find red rectangles\n",
    "        rect_angle = find_bounding_rect_angle(image)\n",
    "\n",
    "        # Extract rectangle parameters\n",
    "        (center_x, center_y), (width, height), angle = rect_angle\n",
    "\n",
    "        csv_writer.writerow([filename, np.intp(center_x), np.intp(center_y), np.intp(width), np.intp(height), np.intp(angle), position_data[filename][0], position_data[filename][1], position_data[filename][2]])\n",
    "        \n",
    "        # Update progress\n",
    "        progress = int(100 * (filename + 1) / total_iterations)\n",
    "        update_progress(progress)\n",
    "\n",
    "cv2.destroyAllWindows()"
   ]
  },
  {
   "cell_type": "markdown",
   "id": "b6e45f33",
   "metadata": {},
   "source": [
    "### Process Data from Blender - Symmetrical Object (Algae, Note)"
   ]
  },
  {
   "cell_type": "code",
   "execution_count": null,
   "id": "14ac7b71",
   "metadata": {},
   "outputs": [],
   "source": [
    "targetRes = (1280, 720)\n",
    "\n",
    "# Open CSV file for writing\n",
    "with open(csv_file_path, 'w', newline='') as csvfile:\n",
    "    csv_writer = csv.writer(csvfile)\n",
    "    csv_writer.writerow(['Image', 'Center_X', 'Center_Y', 'Width', 'Height', 'x_position', 'y_position'])\n",
    "\n",
    "    # Loop through all files in the folder\n",
    "    for filename in image_files:\n",
    "        # Read image\n",
    "        image = cv2.imread(os.path.join(images_folder, (\"render_\"+ str(filename)+ \".jpg\")))\n",
    "        \n",
    "        image = cv2.resize(image, targetRes, interpolation=cv2.INTER_LINEAR)\n",
    "\n",
    "        # Find red rectangles\n",
    "        rect = find_bounding_rect(image)\n",
    "        \n",
    "        x, y, w, h = rect\n",
    "        center_x = x + w // 2\n",
    "        center_y = y + h // 2\n",
    "        csv_writer.writerow([filename, center_x, center_y, w, h, position_data[filename][0], position_data[filename][1]])\n",
    "        \n",
    "        # Update progress\n",
    "        progress = int(100 * (filename + 1) / total_iterations)\n",
    "        update_progress(progress)\n",
    "\n",
    "cv2.destroyAllWindows()"
   ]
  }
 ],
 "metadata": {
  "kernelspec": {
   "display_name": "base",
   "language": "python",
   "name": "python3"
  },
  "language_info": {
   "codemirror_mode": {
    "name": "ipython",
    "version": 3
   },
   "file_extension": ".py",
   "mimetype": "text/x-python",
   "name": "python",
   "nbconvert_exporter": "python",
   "pygments_lexer": "ipython3",
   "version": "3.11.5"
  }
 },
 "nbformat": 4,
 "nbformat_minor": 5
}
