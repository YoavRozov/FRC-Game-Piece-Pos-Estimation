{
 "cells": [
  {
   "cell_type": "markdown",
   "id": "edbc93c2",
   "metadata": {},
   "source": [
    "*First explore the ColorDetection-2024.ipynb notebook"
   ]
  },
  {
   "cell_type": "code",
   "execution_count": 57,
   "id": "634b41af",
   "metadata": {},
   "outputs": [],
   "source": [
    "import cv2 # cv2 -> Imports open-cv our computer vision library\n",
    "import numpy as np # Import the library numpy, and shorten it's name to np\n",
    "import math"
   ]
  },
  {
   "cell_type": "markdown",
   "id": "6b5e4d6d",
   "metadata": {},
   "source": [
    "Define HSV Color range"
   ]
  },
  {
   "cell_type": "code",
   "execution_count": 58,
   "id": "a5ad9176",
   "metadata": {},
   "outputs": [],
   "source": [
    "# The low bounds, [h, s, v]\n",
    "low_bounds = np.array([6, 180, 85])\n",
    "# The top bounds, [h, s, v]\n",
    "top_bounds = np.array([27, 255, 255])"
   ]
  },
  {
   "cell_type": "code",
   "execution_count": 59,
   "id": "0cd5b4cb",
   "metadata": {},
   "outputs": [],
   "source": [
    "image = cv2.imread(\"..\\\\TestingImages\\\\2023-Cone\\\\frame2.jpg\") # Read the image from the file system"
   ]
  },
  {
   "cell_type": "code",
   "execution_count": 60,
   "id": "f4f157d6",
   "metadata": {},
   "outputs": [],
   "source": [
    "# Parameters: Name (can be anything), The actual image\n",
    "cv2.imshow(\"Cone Image\", image)\n",
    "\n",
    "# Used to close the window when done\n",
    "cv2.waitKey(0)\n",
    "cv2.destroyAllWindows()"
   ]
  },
  {
   "cell_type": "markdown",
   "id": "ac6bb1c4",
   "metadata": {},
   "source": [
    "Create mask - Full explanation inside the ColorDetection-2024.ipynb notebook"
   ]
  },
  {
   "cell_type": "code",
   "execution_count": 61,
   "id": "11f03d9f",
   "metadata": {},
   "outputs": [],
   "source": [
    "hsv = cv2.cvtColor(image, cv2.COLOR_BGR2HSV) # Convert the image from BGR to HSV\n",
    "\n",
    "# Create a mask using the low and top bounds\n",
    "mask = cv2.inRange(hsv, low_bounds, top_bounds)\n",
    "\n",
    "# Define the kernel for the morphological operation\n",
    "# It is a 7*7 2d array of ones\n",
    "# Try changing the size of the kernel to see how it affects the image\n",
    "kernel = np.ones((7, 7), np.uint8)\n",
    "\n",
    "# Perform morphological opening to remove noise\n",
    "opening = cv2.morphologyEx(mask, cv2.MORPH_OPEN, kernel)\n",
    "\n",
    "# Perform morphological closing to close small holes\n",
    "processed_mask = cv2.morphologyEx(opening, cv2.MORPH_CLOSE, kernel)\n",
    "\n",
    "res = cv2.bitwise_and(image, image, mask=processed_mask)\n",
    "\n",
    "# Display the processed mask\n",
    "cv2.imshow(\"Processed Mask\", processed_mask)\n",
    "cv2.imshow(\"Result\", res)\n",
    "\n",
    "# Wait for a key press and close the mask window\n",
    "cv2.waitKey(0)\n",
    "cv2.destroyAllWindows()"
   ]
  },
  {
   "cell_type": "code",
   "execution_count": 62,
   "id": "d1f7bd21",
   "metadata": {},
   "outputs": [],
   "source": [
    "contours, _ = cv2.findContours(processed_mask, cv2.RETR_LIST, cv2.CHAIN_APPROX_SIMPLE)\n",
    "\n",
    "# Draw the contours on the image\n",
    "for contour in contours:\n",
    "    # draw the bounding rectangle around the contour\n",
    "    x, y, w, h = cv2.boundingRect(contour)\n",
    "    cv2.rectangle(image, (x, y), (x + w, y + h), (255, 255, 0), 2)\n",
    "\n",
    "# Show the image with contours\n",
    "cv2.imshow(\"Contours\", image)\n",
    "# Wait for a key press and close the contours window\n",
    "cv2.waitKey(0)\n",
    "cv2.destroyAllWindows()"
   ]
  },
  {
   "cell_type": "markdown",
   "id": "17620476",
   "metadata": {},
   "source": [
    "For non-symmetrical objects, where the yaw angle does matter, a bounding rectangle isn't enough."
   ]
  },
  {
   "cell_type": "markdown",
   "id": "21155092",
   "metadata": {},
   "source": [
    "Here is a simple way to give each rotation a unique value (Where similar rotations for similar positions are close to one another), originally developed by Sahar from the Poros Robotics team"
   ]
  },
  {
   "cell_type": "code",
   "execution_count": 63,
   "id": "6ff99177",
   "metadata": {},
   "outputs": [],
   "source": [
    "def saharAlgorithm(contour, img):\n",
    "    # Compute the center of the contour\n",
    "    M = cv2.moments(contour)\n",
    "    cX = int(M[\"m10\"] / M[\"m00\"])\n",
    "    cY = int(M[\"m01\"] / M[\"m00\"])\n",
    "\n",
    "    # Find the point on the contour that is furthest from the center\n",
    "    # It is almost always the cone top point\n",
    "    # IMPORTANT: If the cone top is not visible in the image you will get undefined behavior\n",
    "    distances = [np.linalg.norm(np.array([cX, cY]) - point[0]) for point in contour]\n",
    "    max_distance_index = np.argmax(distances)\n",
    "    furthest_point = tuple(contour[max_distance_index][0])\n",
    "\n",
    "    X = furthest_point[0]\n",
    "    Y = furthest_point[1]\n",
    "\n",
    "    p1 = (cX, img.shape[0] - cY)\n",
    "    p2 = (X, img.shape[0] - Y)\n",
    "\n",
    "    # Difference in x coordinates\n",
    "    dx = p2[0] - p1[0]\n",
    "\n",
    "    # Difference in y coordinates\n",
    "    dy = p2[1] - p1[1]\n",
    "\n",
    "    # Angle between p1 and p2 in radians\n",
    "    theta = math.atan2(dy, dx)\n",
    "\n",
    "    angle = theta * 180 / math.pi\n",
    "\n",
    "    if (dy < 0):\n",
    "        angle = 360 + angle\n",
    "    \n",
    "\n",
    "    # Draw a circle at the center of the contour and a line from the center to the furthest point\n",
    "    # This is only for debugging and testing\n",
    "    # Visualize\n",
    "    # cv2.circle(img, (cX, cY), 7, (255, 255, 255), -1)\n",
    "    cv2.line(img, (cX, cY), furthest_point, (0, 0, 255), 2)\n",
    "\n",
    "    return angle"
   ]
  },
  {
   "cell_type": "code",
   "execution_count": 64,
   "id": "bed14a11",
   "metadata": {},
   "outputs": [],
   "source": [
    "saharAlgorithm(contours[0], image)\n",
    "# Show the image with contours\n",
    "cv2.imshow(\"Contours\", image)\n",
    "# Wait for a key press and close the contours window\n",
    "cv2.waitKey(0)\n",
    "cv2.destroyAllWindows()"
   ]
  }
 ],
 "metadata": {
  "kernelspec": {
   "display_name": "base",
   "language": "python",
   "name": "python3"
  },
  "language_info": {
   "codemirror_mode": {
    "name": "ipython",
    "version": 3
   },
   "file_extension": ".py",
   "mimetype": "text/x-python",
   "name": "python",
   "nbconvert_exporter": "python",
   "pygments_lexer": "ipython3",
   "version": "3.11.5"
  }
 },
 "nbformat": 4,
 "nbformat_minor": 5
}
